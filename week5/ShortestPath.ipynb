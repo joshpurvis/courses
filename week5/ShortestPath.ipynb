{
 "cells": [
  {
   "cell_type": "code",
   "execution_count": 8,
   "metadata": {
    "collapsed": false
   },
   "outputs": [],
   "source": [
    "import qualified Data.ByteString       as B\n",
    "import qualified Data.ByteString.Char8 as BC\n",
    "import Data.Maybe\n",
    "\n",
    "transform (r:rs) = let\n",
    "    edges = map (map (fst . fromJust . BC.readInt) . (r:) . BC.split ',') $ tail rs\n",
    "    flipped = map (\\[v,u,w] -> [u,v,w]) edges\n",
    "    in edges ++ flipped\n",
    "\n",
    "content <- concatMap (transform . BC.words) . BC.lines <$> B.readFile \"dijkstraData.txt\""
   ]
  },
  {
   "cell_type": "code",
   "execution_count": 13,
   "metadata": {
    "collapsed": false
   },
   "outputs": [],
   "source": [
    "import Control.Monad.ST\n",
    "import Control.Monad\n",
    "import Data.STRef\n",
    "import qualified Data.Vector.Unboxed.Mutable as M\n",
    "import qualified Data.Vector.Unboxed as V\n",
    "\n",
    "bellmanFord graph source = runST $ do\n",
    "    let len = head (tail (last graph)) + 1\n",
    "    dist <- M.replicate len 1000000\n",
    "    M.write dist source 0\n",
    "    forM_ [1..(len - 1)] $ \\_ ->\n",
    "        forM_ graph $ \\[v, u, w] -> do\n",
    "            distU <- M.read dist u\n",
    "            distV <- M.read dist v\n",
    "            when ((distU + w) < distV) $\n",
    "                M.write dist v (distU + w)\n",
    "    frozen <- V.freeze dist\n",
    "    result <- newSTRef (Right frozen)\n",
    "    forM_ graph $ \\[v, u, w] -> do\n",
    "        distU <- M.read dist u\n",
    "        distV <- M.read dist v\n",
    "        when (distU + w < distV) $\n",
    "                writeSTRef result (Left \"cycle found\")\n",
    "    readSTRef result"
   ]
  },
  {
   "cell_type": "code",
   "execution_count": 14,
   "metadata": {
    "collapsed": false
   },
   "outputs": [],
   "source": [
    "Right result = bellmanFord content 1"
   ]
  },
  {
   "cell_type": "code",
   "execution_count": 15,
   "metadata": {
    "collapsed": false
   },
   "outputs": [
    {
     "data": {
      "text/plain": [
       "[2599,2610,2947,2052,2367,2399,2029,2442,2505,3068]"
      ]
     },
     "metadata": {},
     "output_type": "display_data"
    }
   ],
   "source": [
    "map (result V.!) [7,37,59,82,99,115,133,165,188,197]"
   ]
  }
 ],
 "metadata": {
  "kernelspec": {
   "display_name": "Haskell",
   "language": "haskell",
   "name": "haskell"
  },
  "language_info": {
   "codemirror_mode": "ihaskell",
   "file_extension": ".hs",
   "name": "haskell",
   "version": "7.10.3"
  }
 },
 "nbformat": 4,
 "nbformat_minor": 2
}
