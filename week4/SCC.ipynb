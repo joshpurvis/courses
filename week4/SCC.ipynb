{
 "cells": [
  {
   "cell_type": "code",
   "execution_count": 1,
   "metadata": {
    "collapsed": false
   },
   "outputs": [
    {
     "data": {
      "text/plain": [
       "(875714,542453)"
      ]
     },
     "metadata": {},
     "output_type": "display_data"
    }
   ],
   "source": [
    "{-# LANGUAGE OverloadedStrings #-}\n",
    "{-# LANGUAGE LambdaCase #-}\n",
    "\n",
    "import qualified Data.ByteString as B\n",
    "import qualified Data.ByteString.Char8 as BC\n",
    "\n",
    "import Data.List\n",
    "import Data.Function (on)\n",
    "\n",
    "readInt bs = case BC.readInt bs of\n",
    "    Just (i, _) -> i\n",
    "    _           -> error \"invalid int\"\n",
    "\n",
    "adjListEntry pairs = (head (head pairs), map (head . tail) pairs)\n",
    "toPair [a,b] = (a,b)\n",
    "\n",
    "contents <- map (toPair . map readInt . BC.words) . BC.lines <$> B.readFile \"SCC.txt\"\n",
    "\n",
    "last contents"
   ]
  },
  {
   "cell_type": "code",
   "execution_count": 21,
   "metadata": {
    "collapsed": false
   },
   "outputs": [],
   "source": [
    "import qualified Data.Graph          as G\n",
    "import qualified Data.HashMap.Strict as H\n",
    "import qualified Data.HashSet        as S\n",
    "import qualified Data.Array          as A\n",
    "\n",
    "import Prelude hiding (lookup)\n",
    "\n",
    "import Control.Monad.ST\n",
    "import Data.STRef\n",
    "import Control.Monad (forM_, when)\n",
    "import Data.Maybe (isNothing, fromJust)\n",
    "\n",
    "import Debug.Trace\n",
    "\n",
    "tarjan :: G.Graph -> [[Int]]\n",
    "tarjan graph = runST $ do\n",
    "    index    <- newSTRef (0 :: Int)\n",
    "    stack    <- newSTRef []\n",
    "    stackSet <- newSTRef S.empty\n",
    "    indices  <- newSTRef H.empty\n",
    "    lowlinks <- newSTRef H.empty\n",
    "    output   <- newSTRef []\n",
    "\n",
    "    forM_ (G.vertices graph) $ \\v -> do\n",
    "        vIndex <- H.lookup v <$> readSTRef indices\n",
    "        when (isNothing vIndex) $\n",
    "            strongConnect v graph index stack stackSet indices lowlinks output\n",
    "\n",
    "    readSTRef output\n",
    "\n",
    "\n",
    "strongConnect\n",
    "    :: (Num a, Ord a, Show a)\n",
    "    => Int\n",
    "    -> G.Graph\n",
    "    -> STRef s a\n",
    "    -> STRef s [Int]\n",
    "    -> STRef s (S.HashSet Int)\n",
    "    -> STRef s (H.HashMap Int a)\n",
    "    -> STRef s (H.HashMap Int a)\n",
    "    -> STRef s [[Int]]\n",
    "    -> ST    s ()\n",
    "strongConnect v graph index stack stackSet indices lowlinks output = do\n",
    "    i <- readSTRef index\n",
    "    insert v i indices\n",
    "    insert v i lowlinks\n",
    "    increment index\n",
    "    push stack stackSet v\n",
    "\n",
    "    forM_ (graph A.! v) $ \\w -> lookup w indices >>= \\case\n",
    "        Nothing     -> do\n",
    "            strongConnect w graph index stack stackSet indices lowlinks output\n",
    "            vLowLink <- fromJust <$> lookup v lowlinks\n",
    "            wLowLink <- fromJust <$> lookup w lowlinks\n",
    "            insert v (min vLowLink wLowLink) lowlinks\n",
    "        Just wIndex -> do\n",
    "            wOnStack <- S.member w <$> readSTRef stackSet\n",
    "            when wOnStack $ do\n",
    "                vLowLink <- fromJust <$> lookup v lowlinks\n",
    "                insert v (min vLowLink wIndex) lowlinks\n",
    "\n",
    "    vLowLink <- fromJust <$> lookup v lowlinks\n",
    "    vIndex   <- fromJust <$> lookup v indices\n",
    "    when (vLowLink == vIndex) $ do\n",
    "        scc <- addSCC v [] stack stackSet\n",
    "        modifySTRef' output (scc:)\n",
    "    where\n",
    "        lookup value hashMap     = H.lookup value <$> readSTRef hashMap\n",
    "        insert key value hashMap = modifySTRef' hashMap (H.insert key value)\n",
    "        increment counter        = modifySTRef' counter (+1)\n",
    "\n",
    "addSCC :: (Eq a, Show a, Num a) => Int -> [Int] -> STRef s [Int] -> STRef s (S.HashSet Int) -> ST s [Int]\n",
    "addSCC v scc stack stackSet = pop stack stackSet >>= \\w -> let scc' = w:scc\n",
    "    in if w == v then return scc' else addSCC v scc' stack stackSet\n",
    "\n",
    "push :: Num a => STRef s [Int] -> STRef s (S.HashSet Int) -> Int -> ST s ()\n",
    "push stack stackSet e = do\n",
    "    modifySTRef' stack    (e:)\n",
    "    modifySTRef' stackSet (S.insert e)\n",
    "\n",
    "pop :: (Eq a, Show a, Num a) => STRef s [Int] -> STRef s (S.HashSet Int) -> ST s Int\n",
    "pop stack stackSet = do\n",
    "    e <- head <$> readSTRef stack\n",
    "    modifySTRef' stack tail\n",
    "    modifySTRef' stackSet (S.delete e)\n",
    "    return e"
   ]
  },
  {
   "cell_type": "code",
   "execution_count": 22,
   "metadata": {
    "collapsed": false
   },
   "outputs": [
    {
     "data": {
      "text/plain": [
       "[434821,968,459,313,211]"
      ]
     },
     "metadata": {},
     "output_type": "display_data"
    }
   ],
   "source": [
    "g = G.buildG (1,875714) contents\n",
    "take 5 $ sortBy (flip compare) . map length $ tarjan g"
   ]
  }
 ],
 "metadata": {
  "kernelspec": {
   "display_name": "Haskell",
   "language": "haskell",
   "name": "haskell"
  },
  "language_info": {
   "codemirror_mode": "ihaskell",
   "file_extension": ".hs",
   "name": "haskell",
   "version": "7.10.3"
  }
 },
 "nbformat": 4,
 "nbformat_minor": 2
}
