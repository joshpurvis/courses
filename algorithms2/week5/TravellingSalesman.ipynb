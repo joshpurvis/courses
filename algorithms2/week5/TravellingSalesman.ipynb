{
 "cells": [
  {
   "cell_type": "code",
   "execution_count": 1,
   "metadata": {
    "collapsed": true
   },
   "outputs": [],
   "source": [
    "import qualified Data.ByteString as B\n",
    "import qualified Data.ByteString.Char8 as BC\n",
    "import qualified Data.IntSet as IS\n",
    "import qualified Data.Map.Lazy as M\n",
    "\n",
    "import Data.ByteString.Read (double)\n",
    "import Data.Maybe (fromJust)\n",
    "import Data.List"
   ]
  },
  {
   "cell_type": "code",
   "execution_count": 2,
   "metadata": {
    "collapsed": false
   },
   "outputs": [],
   "source": [
    "distance (x1, y1) (x2, y2) = sqrt $ (x1-x2)^2 + (y1-y2)^2\n",
    "\n",
    "content' <- map (map (fst . fromJust . double) . BC.words) . tail . BC.lines <$> B.readFile \"tsp.txt\"\n",
    "content = map (\\[a, b] -> (a, b)) content'\n",
    "\n",
    "inserts = zipWith M.insert [1..25] content\n",
    "points = foldr ($) M.empty inserts\n",
    "\n",
    "distances = M.fromList [((i,j), dist) | i <- [1..25], j <- [1..25], let dist = distance (points M.! i) (points M.! j)]"
   ]
  },
  {
   "cell_type": "code",
   "execution_count": null,
   "metadata": {
    "collapsed": false
   },
   "outputs": [],
   "source": [
    "removeOne set = let\n",
    "    setLs = IS.toList set\n",
    "    in map (\\e -> (e, IS.fromList $ setLs \\\\ [e])) setLs\n",
    "\n",
    "\n",
    "g = M.fromList [((i, s), result (i, s)) | i <- [1..25], s <- map IS.fromList (init $ subsequences [1..25])]\n",
    "    where\n",
    "        result (i, s) \n",
    "            | s == IS.empty  = distances M.! (i, 1)\n",
    "            | IS.size s == 1 = let\n",
    "                e = head $ IS.toList s\n",
    "                c = distances M.! (i, e)\n",
    "                in c + (g M.! (e, IS.empty))\n",
    "            | otherwise      = minimum $ map (subresult i) $ removeOne s\n",
    "        subresult i (j, s) = (distances M.! (i, j)) + (g M.! (j, s))\n",
    "\n",
    "g M.! (1, IS.fromList [2..25])"
   ]
  }
 ],
 "metadata": {
  "kernelspec": {
   "display_name": "Haskell",
   "language": "haskell",
   "name": "haskell"
  },
  "language_info": {
   "codemirror_mode": "ihaskell",
   "file_extension": ".hs",
   "name": "haskell",
   "version": "7.10.3"
  }
 },
 "nbformat": 4,
 "nbformat_minor": 2
}
