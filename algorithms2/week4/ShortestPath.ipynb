{
 "cells": [
  {
   "cell_type": "code",
   "execution_count": 4,
   "metadata": {
    "collapsed": false
   },
   "outputs": [],
   "source": [
    "{-# LANGUAGE OverloadedStrings #-}\n",
    "\n",
    "import qualified Data.IntMap.Strict    as IM\n",
    "import qualified Data.HashMap.Strict   as H\n",
    "import qualified Data.ByteString       as B\n",
    "import qualified Data.ByteString.Char8 as BC\n",
    "import qualified Data.Vector.Unboxed   as V\n",
    "import qualified Data.Vector.Unboxed.Mutable as M\n",
    "import Control.Monad.ST\n",
    "import Control.Monad\n",
    "import Data.STRef\n",
    "\n",
    "import Data.List (groupBy)\n",
    "import Data.Maybe (fromJust)\n",
    "import Data.Function (on)\n",
    "\n",
    "g1 <- tail . map (map (fst . fromJust . BC.readInt) . BC.words) . BC.lines <$> B.readFile \"g1.txt\"\n",
    "g2 <- tail . map (map (fst . fromJust . BC.readInt) . BC.words) . BC.lines <$> B.readFile \"g2.txt\"\n",
    "g3 <- tail . map (map (fst . fromJust . BC.readInt) . BC.words) . BC.lines <$> B.readFile \"g3.txt\""
   ]
  },
  {
   "cell_type": "code",
   "execution_count": 5,
   "metadata": {
    "collapsed": false
   },
   "outputs": [],
   "source": [
    "bellmanFord graph source = runST $ do\n",
    "    let len   = head (last graph) + 1\n",
    "    let start = head (head graph)\n",
    "    dist <- M.replicate len (maxBound :: Int)\n",
    "    M.write dist source 0\n",
    "    forM_ [start..(len - 1)] $ \\_ ->\n",
    "        forM_ graph $ \\[v, u, w] -> do\n",
    "            distU <- M.read dist u\n",
    "            distV <- M.read dist v\n",
    "            when ((distU /= (maxBound :: Int)) && (distU + w) < distV) $\n",
    "                M.write dist v (distU + w)\n",
    "    frozen <- V.freeze dist\n",
    "    result <- newSTRef (Right frozen)\n",
    "    forM_ graph $ \\[v, u, w] -> do\n",
    "        distU <- M.read dist u\n",
    "        distV <- M.read dist v\n",
    "        when (distU /= (maxBound :: Int) && distU + w < distV) $\n",
    "                writeSTRef result (Left \"cycle found\")\n",
    "    readSTRef result"
   ]
  },
  {
   "cell_type": "code",
   "execution_count": 2,
   "metadata": {
    "collapsed": false
   },
   "outputs": [
    {
     "data": {
      "text/plain": [
       "Left \"cycle found\""
      ]
     },
     "metadata": {},
     "output_type": "display_data"
    }
   ],
   "source": [
    "bellmanFord g1 1"
   ]
  },
  {
   "cell_type": "code",
   "execution_count": 3,
   "metadata": {
    "collapsed": false
   },
   "outputs": [
    {
     "data": {
      "text/plain": [
       "Left \"cycle found\""
      ]
     },
     "metadata": {},
     "output_type": "display_data"
    }
   ],
   "source": [
    "bellmanFord g2 1"
   ]
  },
  {
   "cell_type": "code",
   "execution_count": 4,
   "metadata": {
    "collapsed": false
   },
   "outputs": [
    {
     "data": {
      "text/plain": [
       "Right (-7)"
      ]
     },
     "metadata": {},
     "output_type": "display_data"
    }
   ],
   "source": [
    "bellmanFord g3 1"
   ]
  },
  {
   "cell_type": "code",
   "execution_count": 8,
   "metadata": {
    "collapsed": false
   },
   "outputs": [],
   "source": [
    "import Data.HashTable.ST.Basic\n",
    "import qualified Data.HashTable.Class as HC\n",
    "import Prelude hiding (lookup)\n",
    "import Debug.Trace\n",
    "\n",
    "floydWarshall :: [[Int]] -> Either String Int\n",
    "floydWarshall graph = runST $ do\n",
    "    let len = head (last graph)\n",
    "    dist <- HC.fromList [((i,j), maxBound :: Int) | i <- [1..len], j <- [1..len]]\n",
    "    forM_ [1..len] $ \\i -> insert dist (i,i) 0\n",
    "    forM_ graph $ \\[v, u, w] -> insert dist (u,v) w\n",
    "    forM_ [1..len] $ \\k -> do\n",
    "        forM_ [1..len] $ \\i ->\n",
    "            forM_ [1..len] $ \\j -> do\n",
    "                distIJ <- fromJust <$> lookup dist (i,j)\n",
    "                distIK <- fromJust <$> lookup dist (i,k)\n",
    "                distKJ <- fromJust <$> lookup dist (k,j)\n",
    "                when (distIJ > distIK + distKJ) $ insert dist (i,j) (distIK + distKJ)\n",
    "        when (k `mod` 10 == 0) $ traceShowM k\n",
    "    asList <- HC.toList dist\n",
    "    result <- newSTRef . Right . minimum $ map snd asList\n",
    "    forM_ [1..len] $ \\c -> do\n",
    "        path <- fromJust <$> lookup dist (c,c)\n",
    "        when (path < 0) $ writeSTRef result (Left \"cycle found\")\n",
    "    readSTRef result"
   ]
  },
  {
   "cell_type": "code",
   "execution_count": null,
   "metadata": {
    "collapsed": false
   },
   "outputs": [],
   "source": [
    "floydWarshall g3"
   ]
  }
 ],
 "metadata": {
  "kernelspec": {
   "display_name": "Haskell",
   "language": "haskell",
   "name": "haskell"
  },
  "language_info": {
   "codemirror_mode": "ihaskell",
   "file_extension": ".hs",
   "name": "haskell",
   "version": "7.10.3"
  }
 },
 "nbformat": 4,
 "nbformat_minor": 2
}
