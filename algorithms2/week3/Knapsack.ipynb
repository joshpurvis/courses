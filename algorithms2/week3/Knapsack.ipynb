{
 "cells": [
  {
   "cell_type": "code",
   "execution_count": 4,
   "metadata": {
    "collapsed": false
   },
   "outputs": [
    {
     "data": {
      "text/plain": [
       "[10000,100]"
      ]
     },
     "metadata": {},
     "output_type": "display_data"
    }
   ],
   "source": [
    "import Data.Function.Memoize\n",
    "import qualified Data.Vector.Unboxed as V\n",
    "import qualified Data.HashMap.Strict as H\n",
    "import Data.STRef\n",
    "import Control.Monad.ST\n",
    "\n",
    "content <- map (map (read :: String -> Int) . words) . lines <$> readFile \"knapsack1.txt\"\n",
    "\n",
    "head content\n",
    "\n",
    "pairs = map (\\[a,b] -> (a,b)) $ tail content"
   ]
  },
  {
   "cell_type": "code",
   "execution_count": 10,
   "metadata": {
    "collapsed": false
   },
   "outputs": [
    {
     "data": {
      "text/plain": [
       "2493893"
      ]
     },
     "metadata": {},
     "output_type": "display_data"
    }
   ],
   "source": [
    "knapsack' capacity weights values n table = do\n",
    "    present <- H.lookup (capacity, n) <$> readSTRef table\n",
    "    case present of\n",
    "        Just value -> return value\n",
    "        Nothing\n",
    "            | n==0 || capacity==0 -> do\n",
    "                modifySTRef' table (H.insert (capacity, n) 0 )\n",
    "                return 0\n",
    "            | (weights !! (n-1)) <= capacity -> do\n",
    "                sub1 <- knapsack' (capacity - weights !! (n-1)) weights values (n-1) table\n",
    "                sub2 <- knapsack' capacity weights values (n-1) table\n",
    "                let a  = ((values !! (n-1)) + sub1)\n",
    "                let mx = max a sub2\n",
    "                modifySTRef' table (H.insert (capacity, n) mx)\n",
    "                return mx\n",
    "            | otherwise -> do\n",
    "                value <- knapsack' capacity weights values (n-1) table\n",
    "                modifySTRef' table (H.insert (capacity, n) value)\n",
    "                return value\n",
    "\n",
    "knapsack capacity weights values n = runST $ do\n",
    "    table <- newSTRef H.empty\n",
    "    knapsack' capacity weights values n table\n",
    "\n",
    "(values, weights) = unzip pairs\n",
    "\n",
    "knapsack 10000 weights values 100"
   ]
  },
  {
   "cell_type": "code",
   "execution_count": 17,
   "metadata": {
    "collapsed": false
   },
   "outputs": [
    {
     "data": {
      "text/plain": [
       "[2000000,2000]"
      ]
     },
     "metadata": {},
     "output_type": "display_data"
    },
    {
     "data": {
      "text/plain": [
       "4243395"
      ]
     },
     "metadata": {},
     "output_type": "display_data"
    }
   ],
   "source": [
    "content' <- map (map (read :: String -> Int) . words) . lines <$> readFile \"knapsack_big.txt\"\n",
    "head content'\n",
    "pairs' = map (\\[a,b] -> (a,b)) $ tail content'\n",
    "(values', weights') = unzip pairs'\n",
    "\n",
    "knapsack 2000000 weights' values' 2000"
   ]
  }
 ],
 "metadata": {
  "kernelspec": {
   "display_name": "Haskell",
   "language": "haskell",
   "name": "haskell"
  },
  "language_info": {
   "codemirror_mode": "ihaskell",
   "file_extension": ".hs",
   "name": "haskell",
   "version": "7.10.3"
  }
 },
 "nbformat": 4,
 "nbformat_minor": 2
}
