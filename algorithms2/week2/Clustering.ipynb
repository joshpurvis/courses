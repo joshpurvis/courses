{
 "cells": [
  {
   "cell_type": "code",
   "execution_count": 1,
   "metadata": {
    "collapsed": true
   },
   "outputs": [],
   "source": [
    "class Set:\n",
    "    __slots__ = (\"parent\", \"rank\")\n",
    "\n",
    "    def __init__(self):\n",
    "        self.parent = self\n",
    "        self.rank = 0\n",
    "\n",
    "    # Path compression\n",
    "    def find(self):\n",
    "        if self.parent != self:\n",
    "            self.parent = Set.find(self.parent)\n",
    "        return self.parent\n",
    "\n",
    "    # Union by rank\n",
    "    def union(self, other):\n",
    "        sRoot = self.find()\n",
    "        oRoot = other.find()\n",
    "        if sRoot == oRoot:\n",
    "            pass\n",
    "        elif sRoot.rank < oRoot.rank:\n",
    "            sRoot.parent = oRoot\n",
    "        elif sRoot.rank > oRoot.rank:\n",
    "            oRoot.parent = sRoot\n",
    "        else:\n",
    "            oRoot.parent = sRoot\n",
    "            sRoot.rank += 1\n",
    "\n",
    "make_set = Set\n",
    "find = Set.find\n",
    "union = Set.union"
   ]
  },
  {
   "cell_type": "code",
   "execution_count": 2,
   "metadata": {
    "collapsed": false
   },
   "outputs": [
    {
     "name": "stdout",
     "output_type": "stream",
     "text": [
      "106\n"
     ]
    }
   ],
   "source": [
    "with open(\"clustering1.txt\") as file:\n",
    "    contents = [list(map(int, line.split())) for line in file.readlines()[1:]]\n",
    "\n",
    "edges = [((a,b), c) for (a, b, c) in contents]\n",
    "sorted_edges = sorted(edges, key=lambda v: v[1])\n",
    "vertices = {i: make_set() for i in range(1, 501)}\n",
    "\n",
    "len(set(map(lambda s: s.find(), vertices.values())))\n",
    "\n",
    "def merge(edge_a, edge_b, vertices):\n",
    "    union(vertices[edge_a], vertices[edge_b])\n",
    "\n",
    "\n",
    "while len(set(map(lambda s: s.find(), vertices.values()))) > 4:\n",
    "    ((a, b), distance), *tail = sorted_edges\n",
    "    merge(a, b, vertices)\n",
    "    sorted_edges = tail\n",
    "\n",
    "\n",
    "for ((a,b), distance) in sorted_edges:\n",
    "    if vertices[a].find() != vertices[b].find():\n",
    "        print(distance)\n",
    "        break"
   ]
  },
  {
   "cell_type": "code",
   "execution_count": 3,
   "metadata": {
    "collapsed": false
   },
   "outputs": [],
   "source": [
    "with open(\"clustering_big.txt\") as file:\n",
    "    contents = [''.join(line.split()) for line in file.readlines()[1:]]"
   ]
  },
  {
   "cell_type": "code",
   "execution_count": 4,
   "metadata": {
    "collapsed": false
   },
   "outputs": [
    {
     "name": "stdout",
     "output_type": "stream",
     "text": [
      "{'10101', '10111', '01001', '10100', '10001', '01100', '01111', '11000', '11100', '11111', '11110', '01101', '00101', '11001', '11011'}\n",
      "6118\n"
     ]
    }
   ],
   "source": [
    "vertices = {c: make_set() for c in contents}\n",
    "\n",
    "def permute1(bs):\n",
    "    for i in range(len(bs)):\n",
    "        yield bs[:i] + opposite(bs[i]) + bs[i+1:]\n",
    "def permute2(bs):\n",
    "    for perm in permute1(bs):\n",
    "        for i in range(len(perm)):\n",
    "            yield perm[:i] + opposite(perm[i]) + perm[i+1:]\n",
    "\n",
    "def opposite(char):\n",
    "    if char == '1': return '0'\n",
    "    else: return '1'\n",
    "\n",
    "def close(bs):\n",
    "    return set(permute1(bs)) | set(permute2(bs)) - {bs}\n",
    "\n",
    "every = set(vertices.keys())\n",
    "\n",
    "for bs in every:\n",
    "    for intersection in (close(bs) & every):\n",
    "        union(vertices[bs], vertices[intersection])\n",
    "\n",
    "print(len(set(map(lambda s: s.find(), vertices.values()))))"
   ]
  }
 ],
 "metadata": {
  "kernelspec": {
   "display_name": "Python 3",
   "language": "python",
   "name": "python3"
  },
  "language_info": {
   "codemirror_mode": {
    "name": "ipython",
    "version": 3
   },
   "file_extension": ".py",
   "mimetype": "text/x-python",
   "name": "python",
   "nbconvert_exporter": "python",
   "pygments_lexer": "ipython3",
   "version": "3.6.0"
  }
 },
 "nbformat": 4,
 "nbformat_minor": 2
}
