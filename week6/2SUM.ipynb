{
 "cells": [
  {
   "cell_type": "code",
   "execution_count": 1,
   "metadata": {
    "collapsed": false
   },
   "outputs": [],
   "source": [
    "import qualified Data.IntSet           as S\n",
    "import qualified Data.ByteString       as B\n",
    "import qualified Data.ByteString.Char8 as BC\n",
    "import Debug.Trace\n",
    "\n",
    "import Data.Maybe (fromJust)\n",
    "\n",
    "content <- map (fst. fromJust . BC.readInt) . BC.lines <$> B.readFile \"2sum.txt\""
   ]
  },
  {
   "cell_type": "code",
   "execution_count": 2,
   "metadata": {
    "collapsed": false
   },
   "outputs": [
    {
     "data": {
      "text/plain": [
       "999752"
      ]
     },
     "metadata": {},
     "output_type": "display_data"
    }
   ],
   "source": [
    "import Data.List (foldl')\n",
    "\n",
    "values = foldr S.insert S.empty content\n",
    "S.size values"
   ]
  },
  {
   "cell_type": "code",
   "execution_count": 3,
   "metadata": {
    "collapsed": false
   },
   "outputs": [],
   "source": [
    "between set x y = let\n",
    "    (_, gt) = S.split x set\n",
    "    (lt, _) = S.split y gt\n",
    "    in lt\n",
    "\n",
    "matches = S.foldr' (\\x s -> let\n",
    "    potential  = S.map (+x) $ between values (-10000-x) (10000-x)\n",
    "    potential' = S.delete (2*x) potential\n",
    "    in S.union potential' s) S.empty values"
   ]
  },
  {
   "cell_type": "code",
   "execution_count": 4,
   "metadata": {
    "collapsed": false
   },
   "outputs": [
    {
     "data": {
      "text/plain": [
       "427"
      ]
     },
     "metadata": {},
     "output_type": "display_data"
    }
   ],
   "source": [
    "S.size matches"
   ]
  }
 ],
 "metadata": {
  "kernelspec": {
   "display_name": "Haskell",
   "language": "haskell",
   "name": "haskell"
  },
  "language_info": {
   "codemirror_mode": "ihaskell",
   "file_extension": ".hs",
   "name": "haskell",
   "version": "7.10.3"
  }
 },
 "nbformat": 4,
 "nbformat_minor": 2
}
